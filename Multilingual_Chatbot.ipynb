{
  "cells": [
    {
      "cell_type": "markdown",
      "source": [
        "# Chatbot"
      ],
      "metadata": {
        "id": "mMeFmLecpLDu"
      }
    },
    {
      "cell_type": "markdown",
      "source": [
        "### Google Drive Mount"
      ],
      "metadata": {
        "id": "PzBm1If_uDR6"
      }
    },
    {
      "cell_type": "code",
      "source": [
        "from google.colab import drive\n",
        "drive.mount('/content/drive')"
      ],
      "metadata": {
        "colab": {
          "base_uri": "https://localhost:8080/"
        },
        "id": "--ChaIeFJlU3",
        "outputId": "c1947ef6-59af-47cc-bf72-ccade8f16e1a"
      },
      "execution_count": null,
      "outputs": [
        {
          "output_type": "stream",
          "name": "stdout",
          "text": [
            "Mounted at /content/drive\n"
          ]
        }
      ]
    },
    {
      "cell_type": "markdown",
      "source": [
        "### Load Quora QA data"
      ],
      "metadata": {
        "id": "sbwi2ANwqMFA"
      }
    },
    {
      "cell_type": "code",
      "source": [
        "import csv\n",
        "import numpy as np\n",
        "import pandas as pd\n",
        "\n",
        "# Load QA dataset\n",
        "with open(\"/content/sample_data/quora_all_qa.csv\", 'r') as file:\n",
        "  csvreader = csv.reader(file)\n",
        "  question_list = []\n",
        "  answer_list = []\n",
        "  for row in csvreader:\n",
        "    question_list.append(row[0])\n",
        "    answer_list.append(row[1])\n",
        "    \n",
        "crypto_df = pd.DataFrame()\n",
        "crypto_df['question'] = question_list\n",
        "crypto_df['answer'] = answer_list\n",
        "copy_question_list = question_list.copy()\n",
        "\n",
        "crypto_df"
      ],
      "metadata": {
        "colab": {
          "base_uri": "https://localhost:8080/",
          "height": 424
        },
        "id": "J9ysP_CJpTQn",
        "outputId": "76937945-407a-404e-ac0b-ea8d689431a8"
      },
      "execution_count": null,
      "outputs": [
        {
          "output_type": "execute_result",
          "data": {
            "text/plain": [
              "                                                question  \\\n",
              "0      What is the best crypto wallet between Coinbas...   \n",
              "1                                 Is Binance trustworthy   \n",
              "2                  How do I create an account on Binance   \n",
              "3      Which is a better exchange for Indians to trad...   \n",
              "4       What are the best coins to invest in binance com   \n",
              "...                                                  ...   \n",
              "16831  Whats your opinion about the future of cryptoc...   \n",
              "16832  What is a good exchange platform to buy Ripple...   \n",
              "16833  I am investing 70 of my whole savings in BTC a...   \n",
              "16834  Do you think BAT can break into the top 10 in ...   \n",
              "16835  Is XRP a good long term investment and is 2022...   \n",
              "\n",
              "                                                  answer  \n",
              "0      Binance and Coinbase are two cryptocurrency pl...  \n",
              "1      Binance is the world's largest cryptocurrency ...  \n",
              "2      Binance is still the largest crypto-to-crypto ...  \n",
              "3      Running a cryptocurrency business in India is ...  \n",
              "4      You can try to have a look on lumi coin, peopl...  \n",
              "...                                                  ...  \n",
              "16831  I am going to try to make it as simple as poss...  \n",
              "16832  Ah yes, Ripple (XRP) [1] - the most divisive c...  \n",
              "16833  Since Bitcoin made waves in 2017 for hitting a...  \n",
              "16834  The answer is yes to both. The price is a simp...  \n",
              "16835  Do you know Warren Buffett's number one rule o...  \n",
              "\n",
              "[16836 rows x 2 columns]"
            ],
            "text/html": [
              "\n",
              "  <div id=\"df-930d8615-4784-4af6-a884-bf50e6ba8639\">\n",
              "    <div class=\"colab-df-container\">\n",
              "      <div>\n",
              "<style scoped>\n",
              "    .dataframe tbody tr th:only-of-type {\n",
              "        vertical-align: middle;\n",
              "    }\n",
              "\n",
              "    .dataframe tbody tr th {\n",
              "        vertical-align: top;\n",
              "    }\n",
              "\n",
              "    .dataframe thead th {\n",
              "        text-align: right;\n",
              "    }\n",
              "</style>\n",
              "<table border=\"1\" class=\"dataframe\">\n",
              "  <thead>\n",
              "    <tr style=\"text-align: right;\">\n",
              "      <th></th>\n",
              "      <th>question</th>\n",
              "      <th>answer</th>\n",
              "    </tr>\n",
              "  </thead>\n",
              "  <tbody>\n",
              "    <tr>\n",
              "      <th>0</th>\n",
              "      <td>What is the best crypto wallet between Coinbas...</td>\n",
              "      <td>Binance and Coinbase are two cryptocurrency pl...</td>\n",
              "    </tr>\n",
              "    <tr>\n",
              "      <th>1</th>\n",
              "      <td>Is Binance trustworthy</td>\n",
              "      <td>Binance is the world's largest cryptocurrency ...</td>\n",
              "    </tr>\n",
              "    <tr>\n",
              "      <th>2</th>\n",
              "      <td>How do I create an account on Binance</td>\n",
              "      <td>Binance is still the largest crypto-to-crypto ...</td>\n",
              "    </tr>\n",
              "    <tr>\n",
              "      <th>3</th>\n",
              "      <td>Which is a better exchange for Indians to trad...</td>\n",
              "      <td>Running a cryptocurrency business in India is ...</td>\n",
              "    </tr>\n",
              "    <tr>\n",
              "      <th>4</th>\n",
              "      <td>What are the best coins to invest in binance com</td>\n",
              "      <td>You can try to have a look on lumi coin, peopl...</td>\n",
              "    </tr>\n",
              "    <tr>\n",
              "      <th>...</th>\n",
              "      <td>...</td>\n",
              "      <td>...</td>\n",
              "    </tr>\n",
              "    <tr>\n",
              "      <th>16831</th>\n",
              "      <td>Whats your opinion about the future of cryptoc...</td>\n",
              "      <td>I am going to try to make it as simple as poss...</td>\n",
              "    </tr>\n",
              "    <tr>\n",
              "      <th>16832</th>\n",
              "      <td>What is a good exchange platform to buy Ripple...</td>\n",
              "      <td>Ah yes, Ripple (XRP) [1] - the most divisive c...</td>\n",
              "    </tr>\n",
              "    <tr>\n",
              "      <th>16833</th>\n",
              "      <td>I am investing 70 of my whole savings in BTC a...</td>\n",
              "      <td>Since Bitcoin made waves in 2017 for hitting a...</td>\n",
              "    </tr>\n",
              "    <tr>\n",
              "      <th>16834</th>\n",
              "      <td>Do you think BAT can break into the top 10 in ...</td>\n",
              "      <td>The answer is yes to both. The price is a simp...</td>\n",
              "    </tr>\n",
              "    <tr>\n",
              "      <th>16835</th>\n",
              "      <td>Is XRP a good long term investment and is 2022...</td>\n",
              "      <td>Do you know Warren Buffett's number one rule o...</td>\n",
              "    </tr>\n",
              "  </tbody>\n",
              "</table>\n",
              "<p>16836 rows × 2 columns</p>\n",
              "</div>\n",
              "      <button class=\"colab-df-convert\" onclick=\"convertToInteractive('df-930d8615-4784-4af6-a884-bf50e6ba8639')\"\n",
              "              title=\"Convert this dataframe to an interactive table.\"\n",
              "              style=\"display:none;\">\n",
              "        \n",
              "  <svg xmlns=\"http://www.w3.org/2000/svg\" height=\"24px\"viewBox=\"0 0 24 24\"\n",
              "       width=\"24px\">\n",
              "    <path d=\"M0 0h24v24H0V0z\" fill=\"none\"/>\n",
              "    <path d=\"M18.56 5.44l.94 2.06.94-2.06 2.06-.94-2.06-.94-.94-2.06-.94 2.06-2.06.94zm-11 1L8.5 8.5l.94-2.06 2.06-.94-2.06-.94L8.5 2.5l-.94 2.06-2.06.94zm10 10l.94 2.06.94-2.06 2.06-.94-2.06-.94-.94-2.06-.94 2.06-2.06.94z\"/><path d=\"M17.41 7.96l-1.37-1.37c-.4-.4-.92-.59-1.43-.59-.52 0-1.04.2-1.43.59L10.3 9.45l-7.72 7.72c-.78.78-.78 2.05 0 2.83L4 21.41c.39.39.9.59 1.41.59.51 0 1.02-.2 1.41-.59l7.78-7.78 2.81-2.81c.8-.78.8-2.07 0-2.86zM5.41 20L4 18.59l7.72-7.72 1.47 1.35L5.41 20z\"/>\n",
              "  </svg>\n",
              "      </button>\n",
              "      \n",
              "  <style>\n",
              "    .colab-df-container {\n",
              "      display:flex;\n",
              "      flex-wrap:wrap;\n",
              "      gap: 12px;\n",
              "    }\n",
              "\n",
              "    .colab-df-convert {\n",
              "      background-color: #E8F0FE;\n",
              "      border: none;\n",
              "      border-radius: 50%;\n",
              "      cursor: pointer;\n",
              "      display: none;\n",
              "      fill: #1967D2;\n",
              "      height: 32px;\n",
              "      padding: 0 0 0 0;\n",
              "      width: 32px;\n",
              "    }\n",
              "\n",
              "    .colab-df-convert:hover {\n",
              "      background-color: #E2EBFA;\n",
              "      box-shadow: 0px 1px 2px rgba(60, 64, 67, 0.3), 0px 1px 3px 1px rgba(60, 64, 67, 0.15);\n",
              "      fill: #174EA6;\n",
              "    }\n",
              "\n",
              "    [theme=dark] .colab-df-convert {\n",
              "      background-color: #3B4455;\n",
              "      fill: #D2E3FC;\n",
              "    }\n",
              "\n",
              "    [theme=dark] .colab-df-convert:hover {\n",
              "      background-color: #434B5C;\n",
              "      box-shadow: 0px 1px 3px 1px rgba(0, 0, 0, 0.15);\n",
              "      filter: drop-shadow(0px 1px 2px rgba(0, 0, 0, 0.3));\n",
              "      fill: #FFFFFF;\n",
              "    }\n",
              "  </style>\n",
              "\n",
              "      <script>\n",
              "        const buttonEl =\n",
              "          document.querySelector('#df-930d8615-4784-4af6-a884-bf50e6ba8639 button.colab-df-convert');\n",
              "        buttonEl.style.display =\n",
              "          google.colab.kernel.accessAllowed ? 'block' : 'none';\n",
              "\n",
              "        async function convertToInteractive(key) {\n",
              "          const element = document.querySelector('#df-930d8615-4784-4af6-a884-bf50e6ba8639');\n",
              "          const dataTable =\n",
              "            await google.colab.kernel.invokeFunction('convertToInteractive',\n",
              "                                                     [key], {});\n",
              "          if (!dataTable) return;\n",
              "\n",
              "          const docLinkHtml = 'Like what you see? Visit the ' +\n",
              "            '<a target=\"_blank\" href=https://colab.research.google.com/notebooks/data_table.ipynb>data table notebook</a>'\n",
              "            + ' to learn more about interactive tables.';\n",
              "          element.innerHTML = '';\n",
              "          dataTable['output_type'] = 'display_data';\n",
              "          await google.colab.output.renderOutput(dataTable, element);\n",
              "          const docLink = document.createElement('div');\n",
              "          docLink.innerHTML = docLinkHtml;\n",
              "          element.appendChild(docLink);\n",
              "        }\n",
              "      </script>\n",
              "    </div>\n",
              "  </div>\n",
              "  "
            ]
          },
          "metadata": {},
          "execution_count": 24
        }
      ]
    },
    {
      "cell_type": "markdown",
      "metadata": {
        "id": "LRqDUOUerOy4"
      },
      "source": [
        "### Embedding our questions using SBERT"
      ]
    },
    {
      "cell_type": "code",
      "execution_count": 4,
      "metadata": {
        "id": "OZzSFvpurOy7",
        "colab": {
          "base_uri": "https://localhost:8080/"
        },
        "outputId": "3de98f7f-7f7c-46cc-838a-3eaa0310da63"
      },
      "outputs": [
        {
          "output_type": "stream",
          "name": "stdout",
          "text": [
            "Looking in indexes: https://pypi.org/simple, https://us-python.pkg.dev/colab-wheels/public/simple/\n",
            "Requirement already satisfied: sentence_transformers==2.2.2 in /usr/local/lib/python3.8/dist-packages (2.2.2)\n",
            "Requirement already satisfied: nltk in /usr/local/lib/python3.8/dist-packages (from sentence_transformers==2.2.2) (3.7)\n",
            "Requirement already satisfied: torchvision in /usr/local/lib/python3.8/dist-packages (from sentence_transformers==2.2.2) (0.13.1+cu113)\n",
            "Requirement already satisfied: tqdm in /usr/local/lib/python3.8/dist-packages (from sentence_transformers==2.2.2) (4.64.1)\n",
            "Requirement already satisfied: scikit-learn in /usr/local/lib/python3.8/dist-packages (from sentence_transformers==2.2.2) (1.0.2)\n",
            "Requirement already satisfied: numpy in /usr/local/lib/python3.8/dist-packages (from sentence_transformers==2.2.2) (1.21.6)\n",
            "Requirement already satisfied: torch>=1.6.0 in /usr/local/lib/python3.8/dist-packages (from sentence_transformers==2.2.2) (1.12.1+cu113)\n",
            "Requirement already satisfied: sentencepiece in /usr/local/lib/python3.8/dist-packages (from sentence_transformers==2.2.2) (0.1.97)\n",
            "Requirement already satisfied: scipy in /usr/local/lib/python3.8/dist-packages (from sentence_transformers==2.2.2) (1.7.3)\n",
            "Requirement already satisfied: transformers<5.0.0,>=4.6.0 in /usr/local/lib/python3.8/dist-packages (from sentence_transformers==2.2.2) (4.24.0)\n",
            "Requirement already satisfied: huggingface-hub>=0.4.0 in /usr/local/lib/python3.8/dist-packages (from sentence_transformers==2.2.2) (0.11.1)\n",
            "Requirement already satisfied: packaging>=20.9 in /usr/local/lib/python3.8/dist-packages (from huggingface-hub>=0.4.0->sentence_transformers==2.2.2) (21.3)\n",
            "Requirement already satisfied: filelock in /usr/local/lib/python3.8/dist-packages (from huggingface-hub>=0.4.0->sentence_transformers==2.2.2) (3.8.0)\n",
            "Requirement already satisfied: requests in /usr/local/lib/python3.8/dist-packages (from huggingface-hub>=0.4.0->sentence_transformers==2.2.2) (2.23.0)\n",
            "Requirement already satisfied: typing-extensions>=3.7.4.3 in /usr/local/lib/python3.8/dist-packages (from huggingface-hub>=0.4.0->sentence_transformers==2.2.2) (4.1.1)\n",
            "Requirement already satisfied: pyyaml>=5.1 in /usr/local/lib/python3.8/dist-packages (from huggingface-hub>=0.4.0->sentence_transformers==2.2.2) (6.0)\n",
            "Requirement already satisfied: pyparsing!=3.0.5,>=2.0.2 in /usr/local/lib/python3.8/dist-packages (from packaging>=20.9->huggingface-hub>=0.4.0->sentence_transformers==2.2.2) (3.0.9)\n",
            "Requirement already satisfied: tokenizers!=0.11.3,<0.14,>=0.11.1 in /usr/local/lib/python3.8/dist-packages (from transformers<5.0.0,>=4.6.0->sentence_transformers==2.2.2) (0.13.2)\n",
            "Requirement already satisfied: regex!=2019.12.17 in /usr/local/lib/python3.8/dist-packages (from transformers<5.0.0,>=4.6.0->sentence_transformers==2.2.2) (2022.6.2)\n",
            "Requirement already satisfied: joblib in /usr/local/lib/python3.8/dist-packages (from nltk->sentence_transformers==2.2.2) (1.2.0)\n",
            "Requirement already satisfied: click in /usr/local/lib/python3.8/dist-packages (from nltk->sentence_transformers==2.2.2) (7.1.2)\n",
            "Requirement already satisfied: chardet<4,>=3.0.2 in /usr/local/lib/python3.8/dist-packages (from requests->huggingface-hub>=0.4.0->sentence_transformers==2.2.2) (3.0.4)\n",
            "Requirement already satisfied: idna<3,>=2.5 in /usr/local/lib/python3.8/dist-packages (from requests->huggingface-hub>=0.4.0->sentence_transformers==2.2.2) (2.10)\n",
            "Requirement already satisfied: certifi>=2017.4.17 in /usr/local/lib/python3.8/dist-packages (from requests->huggingface-hub>=0.4.0->sentence_transformers==2.2.2) (2022.9.24)\n",
            "Requirement already satisfied: urllib3!=1.25.0,!=1.25.1,<1.26,>=1.21.1 in /usr/local/lib/python3.8/dist-packages (from requests->huggingface-hub>=0.4.0->sentence_transformers==2.2.2) (1.24.3)\n",
            "Requirement already satisfied: threadpoolctl>=2.0.0 in /usr/local/lib/python3.8/dist-packages (from scikit-learn->sentence_transformers==2.2.2) (3.1.0)\n",
            "Requirement already satisfied: pillow!=8.3.*,>=5.3.0 in /usr/local/lib/python3.8/dist-packages (from torchvision->sentence_transformers==2.2.2) (7.1.2)\n"
          ]
        }
      ],
      "source": [
        "# Install sentence transformer (https://www.sbert.net/)\n",
        "!pip install sentence_transformers==2.2.2"
      ]
    },
    {
      "cell_type": "code",
      "execution_count": null,
      "metadata": {
        "id": "xSI3JNU_rOy8"
      },
      "outputs": [],
      "source": [
        "import random\n",
        "import torch\n",
        "from sentence_transformers import SentenceTransformer\n",
        "from sklearn.metrics.pairwise import cosine_similarity\n",
        "\n",
        "# Embedding question sentences\n",
        "bert_model = SentenceTransformer('sentence-transformers/distilbert-base-nli-max-tokens')\n",
        "sentence_embeddings = bert_model.encode(question_list)"
      ]
    },
    {
      "cell_type": "code",
      "source": [
        "import joblib\n",
        "# Save the embedding\n",
        "# joblib.dump(sentence_embeddings, '/content/drive/MyDrive/Colab Notebooks/CSCI544_ANLP/data/embedding_distilbert-base-nli-max-tokens.pkl')\n",
        "\n",
        "# Load the embedding\n",
        "# sentence_embeddings = joblib.load('/content/drive/MyDrive/Colab Notebooks/CSCI544_ANLP/data/embedding_distilbert-base-nli-max-tokens.pkl')"
      ],
      "metadata": {
        "id": "AJgB7_LhQJtO",
        "colab": {
          "base_uri": "https://localhost:8080/"
        },
        "outputId": "1c44174a-3d7e-40e8-c6fe-eb9df4a5af9b"
      },
      "execution_count": null,
      "outputs": [
        {
          "output_type": "execute_result",
          "data": {
            "text/plain": [
              "['/content/drive/MyDrive/Colab Notebooks/CSCI544_ANLP/data/embedding_distilbert-base-nli-max-tokens.pkl']"
            ]
          },
          "metadata": {},
          "execution_count": 27
        }
      ]
    },
    {
      "cell_type": "code",
      "execution_count": null,
      "metadata": {
        "colab": {
          "base_uri": "https://localhost:8080/"
        },
        "id": "l-Ze0zzCrgjx",
        "outputId": "8dcb833a-448e-499a-ec82-9ea98b970ba7"
      },
      "outputs": [
        {
          "output_type": "stream",
          "name": "stdout",
          "text": [
            "[[0.92691123]]\n",
            "[[0.9464959]]\n"
          ]
        }
      ],
      "source": [
        "# Check an example of cosine-similarity between similar questions\n",
        "question1 = bert_model.encode(['how do people send crypto from a trust wallet to binance'])\n",
        "question2 = bert_model.encode(['how to send cyrto to binance from trust wallet'])\n",
        "print(cosine_similarity(question2,question1))"
      ]
    },
    {
      "cell_type": "markdown",
      "source": [
        "### Define functions"
      ],
      "metadata": {
        "id": "CO-UkcoMuLOg"
      }
    },
    {
      "cell_type": "code",
      "source": [
        "# There are many versions not working. Make sure to use the below version.\n",
        "!pip install googletrans==4.0.0-rc1"
      ],
      "metadata": {
        "id": "VC_NGrr2uRfI"
      },
      "execution_count": null,
      "outputs": []
    },
    {
      "cell_type": "code",
      "source": [
        "from bs4 import BeautifulSoup \n",
        "import requests \n",
        "import time\n",
        "from googletrans import Translator\n",
        "\n",
        "#function to get the price of a cryptocurrency\n",
        "def get_price(coin):\n",
        "    \n",
        "    # make up the URL\n",
        "    url = \"https://www.google.com/search?q=\" + coin + \"+price\"\n",
        "    \n",
        "    # make the request\n",
        "    content = requests.get(url) \n",
        "  \n",
        "    # parse the response\n",
        "    soup = BeautifulSoup(content.text, 'html.parser') \n",
        "  \n",
        "    # find the price \n",
        "    text = soup.find(\"div\", attrs={'class':'BNeawe iBp4i AP7Wnd'}).text\n",
        "    \n",
        "    # return the price \n",
        "    return text\n",
        "\n",
        "def translate_question(text, lang):\n",
        "  # translator = Translator()\n",
        "  translator = Translator(service_urls=[\n",
        "        'translate.google.com',\n",
        "      ])\n",
        "  \n",
        "  # If text is not english, translate it.\n",
        "  return translator.translate(text= text, src=lang, dest='en').text if lang != 'en' else text\n",
        "\n",
        "def translate_answer(text):\n",
        "  from googletrans import Translator\n",
        "  # translator = Translator()\n",
        "  translator = Translator(service_urls=[\n",
        "        'translate.google.com',\n",
        "      ])\n",
        "  \n",
        "  lang = translator.detect(text).lang\n",
        "  \n",
        "  # If text is not english, translate it.\n",
        "  return translator.translate(text= text, dest='en').text if lang != 'en' else text"
      ],
      "metadata": {
        "id": "mTf3m8STBSAZ"
      },
      "execution_count": null,
      "outputs": []
    },
    {
      "cell_type": "code",
      "source": [
        "def return_answer(question):\n",
        "\n",
        "  ####### Translate question #######\n",
        "  # detect the language\n",
        "  translator = Translator(service_urls=[\n",
        "        'translate.google.com',\n",
        "      ])\n",
        "  lang = translator.detect(question).lang\n",
        "\n",
        "  # If text is not english, translate it.\n",
        "  if lang != 'en':\n",
        "    question = translator.translate(text= question, src=lang, dest='en').text\n",
        "  \n",
        "  ##########################\n",
        "\n",
        "  ###### Cryptocurrency price ########\n",
        "  if 'price' in question.lower():\n",
        "    # check if user is asking the price of crpytocurrency in our supported list.\n",
        "    crypto_set = set()\n",
        "    with open('/content/drive/MyDrive/Colab Notebooks/CSCI544_ANLP/data/top50_crypto.txt') as f_cryto:\n",
        "      for line in f_cryto.readlines():\n",
        "        crypto_set.add(line.strip())\n",
        "\n",
        "    words = question.split()\n",
        "    coin = \"\"\n",
        "    for c in crypto_set:\n",
        "      _c = c.replace(' ', '').lower()\n",
        "      if _c in question.replace(' ', '').lower() and len(coin) < len(_c):\n",
        "        coin = c\n",
        "\n",
        "    if coin == \"\":\n",
        "      return \"Sorry, we don't support the given coin.\"\n",
        "\n",
        "    return 'The current price of ' + coin + ' is ' + get_price(coin) + \".\"\n",
        "  ######################################\n",
        "  \n",
        "  ###### Get answer from the question that has highest cosine similarity using SBERT 'distilbert-base-nli-max-tokens' model ######\n",
        "  question_embedding = bert_model.encode([question])\n",
        "\n",
        "  scores = cosine_similarity(question_embedding,sentence_embeddings)\n",
        "  index = np.argmax(cosine_similarity(question_embedding,sentence_embeddings))\n",
        "  \n",
        "  # If the cosine similarity is higher or equal to 0.85, return answer\n",
        "  if scores[0][index] >= 0.85:\n",
        "    answer = answer_list[index]\n",
        "  else:\n",
        "    answer = 'Sorry, I do not understand the question.'\n",
        "\n",
        "  # If the language of question was not english, translate answer into the given language.\n",
        "  if lang != 'en':\n",
        "    answer = translator.translate(text=answer, src='en', dest=lang).text\n",
        "\n",
        "  return answer\n"
      ],
      "metadata": {
        "id": "CslLZ5BgQ367"
      },
      "execution_count": null,
      "outputs": []
    },
    {
      "cell_type": "markdown",
      "source": [
        "### Chatbot"
      ],
      "metadata": {
        "id": "qigFzJdcujgr"
      }
    },
    {
      "cell_type": "code",
      "source": [
        "while True:\n",
        "  user_ask = input('Type your question: ')\n",
        "\n",
        "  if 'bye' in user_ask.lower():\n",
        "    break\n",
        "\n",
        "  answer_sentence = return_answer(user_ask)\n",
        "\n",
        "  print(answer_sentence)\n",
        "  print('---------------')\n",
        "\n",
        "  "
      ],
      "metadata": {
        "colab": {
          "base_uri": "https://localhost:8080/",
          "height": 530
        },
        "id": "SQVA5l6Fuk5e",
        "outputId": "ef0372b4-e970-416e-95f4-9f0c6c63749f"
      },
      "execution_count": null,
      "outputs": [
        {
          "output_type": "stream",
          "name": "stdout",
          "text": [
            "Type your question: What are the pros and cons of Binance?\n",
            "Binance's meteoric rise to become the leading cryptocurrency exchange seems incredulous but possible if you know its founder. Changpeng Zhao worked for the Tokyo Stock Exchange and Bloomberg before building one of the fastest high frequency trading systems, Fusion Systems.  Since Binance launched in 2017 in China, its fast execution times have attracted hordes of professional traders. When China shuttered crypto exchanges, Binance moved its offices to Malta. Also, you can request a callback [ https://www.acustomerservice.info/phone-number/binance/ ] from Binance about this.  Binance Jersey and Binance Uganda recently opened to provide fiat-to-crypto trading. With one of the fastest order execution times and institutional-grade research reports, professional crypto traders have found a home on Binance.  Over the counter trading between private parties was introduced in 2019 for trades over 20 BTC. An incubator lab for blockchain startup projects and a launch pad for ICOs allowed for many new coins and trading pairs.  Counting with over 313,000 daily active users, Binance is the largest bitcoin exchanges in the word after Coinbase. However, with more platforms cropping up daily to buy cryptocurrencies, it may not necessarily be the best option for the retail investor in 2019. Binance is a centralized cryptocurrency exchange.  With the recent launch of the Binance Decentralized Exchange, Binance aims to give the trader the choice of the best of both worlds. The crypto exchange seeks to cater to all levels of investors by providing both a Basic and Advanced trade setup. Over 400 coins are offered.  If you want immediate access to new coins, Binance is where to get hot alt coins. The steady flow of coins from its ICO launches to alt coin listings on Binance ensures early access to a good supply of new coins.  While on some exchanges you may have to wait patiently for liquidity to trade new coins, on Binance, you can participate in trading competitions and earn while helping to create liquidity in new coins. Trading fees are low and even cheaper if you use Binance coin.  As a centralized exchange, though, Binance is vulnerable to security breaches and says it fends off dozens a day. Binance is sidestepping these security issues with the launch of its Decentralized Exchange.  Binance DEX runs on its own blockchain, Binance Chain blockchain, and uses the Binance coin. Decentralized exchanges do not hold customer funds or information the main targets of hackers. Instead funds are held by the wallets of the individual traders.  The Binance DEX launch is one of the most watched launches in crypto exchange history. Binance has the trading volume to build liquidity, which has been the main weakness of other DEXs. The DEX will remain crypto-to-crypto and thus outside the purview of regulators.\n",
            "---------------\n",
            "Type your question: バイナンスのメリットとデメリットは？\n",
            "Binanceは、ビットコイントランザクションの効率を改善することを目的としたSegwitサポートの追加を発表しました。また、ユーザーはビットコインホールディングを撤回または送信することができます。Segwitの意味は隔離された証人です。\n",
            "---------------\n"
          ]
        },
        {
          "output_type": "error",
          "ename": "KeyboardInterrupt",
          "evalue": "ignored",
          "traceback": [
            "\u001b[0;31m---------------------------------------------------------------------------\u001b[0m",
            "\u001b[0;31mKeyboardInterrupt\u001b[0m                         Traceback (most recent call last)",
            "\u001b[0;32m<ipython-input-64-3a10373d4d76>\u001b[0m in \u001b[0;36m<module>\u001b[0;34m\u001b[0m\n\u001b[1;32m      1\u001b[0m \u001b[0;32mwhile\u001b[0m \u001b[0;32mTrue\u001b[0m\u001b[0;34m:\u001b[0m\u001b[0;34m\u001b[0m\u001b[0;34m\u001b[0m\u001b[0m\n\u001b[0;32m----> 2\u001b[0;31m   \u001b[0muser_ask\u001b[0m \u001b[0;34m=\u001b[0m \u001b[0minput\u001b[0m\u001b[0;34m(\u001b[0m\u001b[0;34m'Type your question: '\u001b[0m\u001b[0;34m)\u001b[0m\u001b[0;34m\u001b[0m\u001b[0;34m\u001b[0m\u001b[0m\n\u001b[0m\u001b[1;32m      3\u001b[0m \u001b[0;34m\u001b[0m\u001b[0m\n\u001b[1;32m      4\u001b[0m   \u001b[0;32mif\u001b[0m \u001b[0;34m'bye'\u001b[0m \u001b[0;32min\u001b[0m \u001b[0muser_ask\u001b[0m\u001b[0;34m:\u001b[0m\u001b[0;34m\u001b[0m\u001b[0;34m\u001b[0m\u001b[0m\n\u001b[1;32m      5\u001b[0m     \u001b[0;32mbreak\u001b[0m\u001b[0;34m\u001b[0m\u001b[0;34m\u001b[0m\u001b[0m\n",
            "\u001b[0;32m/usr/local/lib/python3.7/dist-packages/ipykernel/kernelbase.py\u001b[0m in \u001b[0;36mraw_input\u001b[0;34m(self, prompt)\u001b[0m\n\u001b[1;32m    861\u001b[0m             \u001b[0mself\u001b[0m\u001b[0;34m.\u001b[0m\u001b[0m_parent_ident\u001b[0m\u001b[0;34m,\u001b[0m\u001b[0;34m\u001b[0m\u001b[0;34m\u001b[0m\u001b[0m\n\u001b[1;32m    862\u001b[0m             \u001b[0mself\u001b[0m\u001b[0;34m.\u001b[0m\u001b[0m_parent_header\u001b[0m\u001b[0;34m,\u001b[0m\u001b[0;34m\u001b[0m\u001b[0;34m\u001b[0m\u001b[0m\n\u001b[0;32m--> 863\u001b[0;31m             \u001b[0mpassword\u001b[0m\u001b[0;34m=\u001b[0m\u001b[0;32mFalse\u001b[0m\u001b[0;34m,\u001b[0m\u001b[0;34m\u001b[0m\u001b[0;34m\u001b[0m\u001b[0m\n\u001b[0m\u001b[1;32m    864\u001b[0m         )\n\u001b[1;32m    865\u001b[0m \u001b[0;34m\u001b[0m\u001b[0m\n",
            "\u001b[0;32m/usr/local/lib/python3.7/dist-packages/ipykernel/kernelbase.py\u001b[0m in \u001b[0;36m_input_request\u001b[0;34m(self, prompt, ident, parent, password)\u001b[0m\n\u001b[1;32m    902\u001b[0m             \u001b[0;32mexcept\u001b[0m \u001b[0mKeyboardInterrupt\u001b[0m\u001b[0;34m:\u001b[0m\u001b[0;34m\u001b[0m\u001b[0;34m\u001b[0m\u001b[0m\n\u001b[1;32m    903\u001b[0m                 \u001b[0;31m# re-raise KeyboardInterrupt, to truncate traceback\u001b[0m\u001b[0;34m\u001b[0m\u001b[0;34m\u001b[0m\u001b[0;34m\u001b[0m\u001b[0m\n\u001b[0;32m--> 904\u001b[0;31m                 \u001b[0;32mraise\u001b[0m \u001b[0mKeyboardInterrupt\u001b[0m\u001b[0;34m(\u001b[0m\u001b[0;34m\"Interrupted by user\"\u001b[0m\u001b[0;34m)\u001b[0m \u001b[0;32mfrom\u001b[0m \u001b[0;32mNone\u001b[0m\u001b[0;34m\u001b[0m\u001b[0;34m\u001b[0m\u001b[0m\n\u001b[0m\u001b[1;32m    905\u001b[0m             \u001b[0;32mexcept\u001b[0m \u001b[0mException\u001b[0m \u001b[0;32mas\u001b[0m \u001b[0me\u001b[0m\u001b[0;34m:\u001b[0m\u001b[0;34m\u001b[0m\u001b[0;34m\u001b[0m\u001b[0m\n\u001b[1;32m    906\u001b[0m                 \u001b[0mself\u001b[0m\u001b[0;34m.\u001b[0m\u001b[0mlog\u001b[0m\u001b[0;34m.\u001b[0m\u001b[0mwarning\u001b[0m\u001b[0;34m(\u001b[0m\u001b[0;34m\"Invalid Message:\"\u001b[0m\u001b[0;34m,\u001b[0m \u001b[0mexc_info\u001b[0m\u001b[0;34m=\u001b[0m\u001b[0;32mTrue\u001b[0m\u001b[0;34m)\u001b[0m\u001b[0;34m\u001b[0m\u001b[0;34m\u001b[0m\u001b[0m\n",
            "\u001b[0;31mKeyboardInterrupt\u001b[0m: Interrupted by user"
          ]
        }
      ]
    },
    {
      "cell_type": "code",
      "source": [
        "return_answer('What is the best cryptocurrency?')"
      ],
      "metadata": {
        "colab": {
          "base_uri": "https://localhost:8080/",
          "height": 127
        },
        "id": "IuFr8VwJRcPN",
        "outputId": "b35a7de1-dea8-4c67-e7b2-02f8799d0f95"
      },
      "execution_count": null,
      "outputs": [
        {
          "output_type": "stream",
          "name": "stdout",
          "text": [
            "What is the best cryptocurrency\n"
          ]
        },
        {
          "output_type": "execute_result",
          "data": {
            "text/plain": [
              "\"Bitcoin has not just been a trendsetter, ushering in a wave of cryptocurrencies built on a decentralized peer-to-peer network, it's become the de facto standard for cryptocurrencies , inspiring an ever-growing legion of followers and spinoffs.  What is cryptocurrency and altcoin?  Before we take a closer look at some of these alternatives to bitcoin, let's step back and briefly examine what we mean by terms like cryptocurrency and altcoin. A cryptocurrency, broadly defined, is virtual or digital money which takes the form of tokens or coins. While some cryptocurrencies have ventured into the physical world with credit cards or other projects, the large majority remain entirely intangible. The crypto in cryptocurrencies refers to complicated cryptography which allows for a particular digital token to be generated, stored, and transacted securely and, typically, anonymously. Alongside this important crypto feature of these currencies is a common commitment to decentralization; cryptocurrencies are typically developed as code by teams who build in mechanisms for issuance (often, although not always, through a process called mining) and other controls. Cryptocurrencies are almost always designed to be free from government manipulation and control.check affiliatecoin.tech for more.  cryptosbinary provide all the resources you need to seamlessly flow through the experience of investing crypto 24/7. Cryptocurrency exchanges are for traders. (www.cryptosbinary,com) is the easiest, most convenient platform for both beginners and cryptocurrency enthusiasts.They are a non-custodial platform, meaning that your crypto is securely and instantly delivering of your 40% ROI investment directly to your personal wallet after 7 days of investment.\""
            ],
            "application/vnd.google.colaboratory.intrinsic+json": {
              "type": "string"
            }
          },
          "metadata": {},
          "execution_count": 51
        }
      ]
    }
  ],
  "metadata": {
    "colab": {
      "provenance": []
    },
    "kernelspec": {
      "display_name": "Python 3",
      "name": "python3"
    },
    "language_info": {
      "name": "python"
    },
    "accelerator": "TPU",
    "gpuClass": "standard"
  },
  "nbformat": 4,
  "nbformat_minor": 0
}