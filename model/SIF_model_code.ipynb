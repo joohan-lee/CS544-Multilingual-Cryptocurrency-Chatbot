{
  "nbformat": 4,
  "nbformat_minor": 0,
  "metadata": {
    "colab": {
      "provenance": []
    },
    "kernelspec": {
      "name": "python3",
      "display_name": "Python 3"
    },
    "language_info": {
      "name": "python"
    }
  },
  "cells": [
    {
      "cell_type": "code",
      "execution_count": null,
      "metadata": {
        "colab": {
          "base_uri": "https://localhost:8080/",
          "height": 419
        },
        "id": "MsKreks1AIZV",
        "outputId": "4db67faf-4ef9-4652-9f65-164ab1c4313b"
      },
      "outputs": [
        {
          "output_type": "execute_result",
          "data": {
            "text/plain": [
              "                                                question  \\\n",
              "0      what is the best crypto wallet between coinbas...   \n",
              "1                                 is binance trustworthy   \n",
              "2                  how do i create an account on binance   \n",
              "3      which is a better exchange for indians to trad...   \n",
              "4       what are the best coins to invest in binance com   \n",
              "...                                                  ...   \n",
              "16831  whats your opinion about the future of cryptoc...   \n",
              "16832  what is a good exchange platform to buy ripple...   \n",
              "16833  i am investing 70 of my whole savings in btc a...   \n",
              "16834  do you think bat can break into the top 10 in ...   \n",
              "16835  is xrp a good long term investment and is 2022...   \n",
              "\n",
              "                                                  answer  \n",
              "0      Binance and Coinbase are two cryptocurrency pl...  \n",
              "1      Binance is the world's largest cryptocurrency ...  \n",
              "2      Binance is still the largest crypto-to-crypto ...  \n",
              "3      Running a cryptocurrency business in India is ...  \n",
              "4      You can try to have a look on lumi coin, peopl...  \n",
              "...                                                  ...  \n",
              "16831  I am going to try to make it as simple as poss...  \n",
              "16832  Ah yes, Ripple (XRP) [1] - the most divisive c...  \n",
              "16833  Since Bitcoin made waves in 2017 for hitting a...  \n",
              "16834  The answer is yes to both. The price is a simp...  \n",
              "16835  Do you know Warren Buffett's number one rule o...  \n",
              "\n",
              "[16836 rows x 2 columns]"
            ],
            "text/html": [
              "\n",
              "  <div id=\"df-42613eae-f02a-4a0e-b54c-ca1c6a5d955b\">\n",
              "    <div class=\"colab-df-container\">\n",
              "      <div>\n",
              "<style scoped>\n",
              "    .dataframe tbody tr th:only-of-type {\n",
              "        vertical-align: middle;\n",
              "    }\n",
              "\n",
              "    .dataframe tbody tr th {\n",
              "        vertical-align: top;\n",
              "    }\n",
              "\n",
              "    .dataframe thead th {\n",
              "        text-align: right;\n",
              "    }\n",
              "</style>\n",
              "<table border=\"1\" class=\"dataframe\">\n",
              "  <thead>\n",
              "    <tr style=\"text-align: right;\">\n",
              "      <th></th>\n",
              "      <th>question</th>\n",
              "      <th>answer</th>\n",
              "    </tr>\n",
              "  </thead>\n",
              "  <tbody>\n",
              "    <tr>\n",
              "      <th>0</th>\n",
              "      <td>what is the best crypto wallet between coinbas...</td>\n",
              "      <td>Binance and Coinbase are two cryptocurrency pl...</td>\n",
              "    </tr>\n",
              "    <tr>\n",
              "      <th>1</th>\n",
              "      <td>is binance trustworthy</td>\n",
              "      <td>Binance is the world's largest cryptocurrency ...</td>\n",
              "    </tr>\n",
              "    <tr>\n",
              "      <th>2</th>\n",
              "      <td>how do i create an account on binance</td>\n",
              "      <td>Binance is still the largest crypto-to-crypto ...</td>\n",
              "    </tr>\n",
              "    <tr>\n",
              "      <th>3</th>\n",
              "      <td>which is a better exchange for indians to trad...</td>\n",
              "      <td>Running a cryptocurrency business in India is ...</td>\n",
              "    </tr>\n",
              "    <tr>\n",
              "      <th>4</th>\n",
              "      <td>what are the best coins to invest in binance com</td>\n",
              "      <td>You can try to have a look on lumi coin, peopl...</td>\n",
              "    </tr>\n",
              "    <tr>\n",
              "      <th>...</th>\n",
              "      <td>...</td>\n",
              "      <td>...</td>\n",
              "    </tr>\n",
              "    <tr>\n",
              "      <th>16831</th>\n",
              "      <td>whats your opinion about the future of cryptoc...</td>\n",
              "      <td>I am going to try to make it as simple as poss...</td>\n",
              "    </tr>\n",
              "    <tr>\n",
              "      <th>16832</th>\n",
              "      <td>what is a good exchange platform to buy ripple...</td>\n",
              "      <td>Ah yes, Ripple (XRP) [1] - the most divisive c...</td>\n",
              "    </tr>\n",
              "    <tr>\n",
              "      <th>16833</th>\n",
              "      <td>i am investing 70 of my whole savings in btc a...</td>\n",
              "      <td>Since Bitcoin made waves in 2017 for hitting a...</td>\n",
              "    </tr>\n",
              "    <tr>\n",
              "      <th>16834</th>\n",
              "      <td>do you think bat can break into the top 10 in ...</td>\n",
              "      <td>The answer is yes to both. The price is a simp...</td>\n",
              "    </tr>\n",
              "    <tr>\n",
              "      <th>16835</th>\n",
              "      <td>is xrp a good long term investment and is 2022...</td>\n",
              "      <td>Do you know Warren Buffett's number one rule o...</td>\n",
              "    </tr>\n",
              "  </tbody>\n",
              "</table>\n",
              "<p>16836 rows × 2 columns</p>\n",
              "</div>\n",
              "      <button class=\"colab-df-convert\" onclick=\"convertToInteractive('df-42613eae-f02a-4a0e-b54c-ca1c6a5d955b')\"\n",
              "              title=\"Convert this dataframe to an interactive table.\"\n",
              "              style=\"display:none;\">\n",
              "        \n",
              "  <svg xmlns=\"http://www.w3.org/2000/svg\" height=\"24px\"viewBox=\"0 0 24 24\"\n",
              "       width=\"24px\">\n",
              "    <path d=\"M0 0h24v24H0V0z\" fill=\"none\"/>\n",
              "    <path d=\"M18.56 5.44l.94 2.06.94-2.06 2.06-.94-2.06-.94-.94-2.06-.94 2.06-2.06.94zm-11 1L8.5 8.5l.94-2.06 2.06-.94-2.06-.94L8.5 2.5l-.94 2.06-2.06.94zm10 10l.94 2.06.94-2.06 2.06-.94-2.06-.94-.94-2.06-.94 2.06-2.06.94z\"/><path d=\"M17.41 7.96l-1.37-1.37c-.4-.4-.92-.59-1.43-.59-.52 0-1.04.2-1.43.59L10.3 9.45l-7.72 7.72c-.78.78-.78 2.05 0 2.83L4 21.41c.39.39.9.59 1.41.59.51 0 1.02-.2 1.41-.59l7.78-7.78 2.81-2.81c.8-.78.8-2.07 0-2.86zM5.41 20L4 18.59l7.72-7.72 1.47 1.35L5.41 20z\"/>\n",
              "  </svg>\n",
              "      </button>\n",
              "      \n",
              "  <style>\n",
              "    .colab-df-container {\n",
              "      display:flex;\n",
              "      flex-wrap:wrap;\n",
              "      gap: 12px;\n",
              "    }\n",
              "\n",
              "    .colab-df-convert {\n",
              "      background-color: #E8F0FE;\n",
              "      border: none;\n",
              "      border-radius: 50%;\n",
              "      cursor: pointer;\n",
              "      display: none;\n",
              "      fill: #1967D2;\n",
              "      height: 32px;\n",
              "      padding: 0 0 0 0;\n",
              "      width: 32px;\n",
              "    }\n",
              "\n",
              "    .colab-df-convert:hover {\n",
              "      background-color: #E2EBFA;\n",
              "      box-shadow: 0px 1px 2px rgba(60, 64, 67, 0.3), 0px 1px 3px 1px rgba(60, 64, 67, 0.15);\n",
              "      fill: #174EA6;\n",
              "    }\n",
              "\n",
              "    [theme=dark] .colab-df-convert {\n",
              "      background-color: #3B4455;\n",
              "      fill: #D2E3FC;\n",
              "    }\n",
              "\n",
              "    [theme=dark] .colab-df-convert:hover {\n",
              "      background-color: #434B5C;\n",
              "      box-shadow: 0px 1px 3px 1px rgba(0, 0, 0, 0.15);\n",
              "      filter: drop-shadow(0px 1px 2px rgba(0, 0, 0, 0.3));\n",
              "      fill: #FFFFFF;\n",
              "    }\n",
              "  </style>\n",
              "\n",
              "      <script>\n",
              "        const buttonEl =\n",
              "          document.querySelector('#df-42613eae-f02a-4a0e-b54c-ca1c6a5d955b button.colab-df-convert');\n",
              "        buttonEl.style.display =\n",
              "          google.colab.kernel.accessAllowed ? 'block' : 'none';\n",
              "\n",
              "        async function convertToInteractive(key) {\n",
              "          const element = document.querySelector('#df-42613eae-f02a-4a0e-b54c-ca1c6a5d955b');\n",
              "          const dataTable =\n",
              "            await google.colab.kernel.invokeFunction('convertToInteractive',\n",
              "                                                     [key], {});\n",
              "          if (!dataTable) return;\n",
              "\n",
              "          const docLinkHtml = 'Like what you see? Visit the ' +\n",
              "            '<a target=\"_blank\" href=https://colab.research.google.com/notebooks/data_table.ipynb>data table notebook</a>'\n",
              "            + ' to learn more about interactive tables.';\n",
              "          element.innerHTML = '';\n",
              "          dataTable['output_type'] = 'display_data';\n",
              "          await google.colab.output.renderOutput(dataTable, element);\n",
              "          const docLink = document.createElement('div');\n",
              "          docLink.innerHTML = docLinkHtml;\n",
              "          element.appendChild(docLink);\n",
              "        }\n",
              "      </script>\n",
              "    </div>\n",
              "  </div>\n",
              "  "
            ]
          },
          "metadata": {},
          "execution_count": 1
        }
      ],
      "source": [
        "import csv\n",
        "import numpy as np\n",
        "import pandas as pd\n",
        "\n",
        "with open(\"/content/drive/MyDrive/Colab Notebooks/CSCI_544_DATA/all.csv\", 'r') as file:\n",
        "  csvreader = csv.reader(file)\n",
        "  question_list = []\n",
        "  answer_list = []\n",
        "  for row in csvreader:\n",
        "    question_list.append(row[0].lower())\n",
        "    answer_list.append(row[1])\n",
        "    \n",
        "crypto_df = pd.DataFrame()\n",
        "crypto_df['question'] = question_list\n",
        "crypto_df['answer'] = answer_list\n",
        "copy_question_list = question_list.copy()\n",
        "\n",
        "crypto_df"
      ]
    },
    {
      "cell_type": "code",
      "source": [
        "# with open(\"/content/drive/MyDrive/Colab Notebooks/CSCI_544_DATA/Junlin.csv\", 'r') as file:\n",
        "#   csvreader = csv.reader(file)\n",
        "#   test_question_list = []\n",
        "#   test_index_list = []\n",
        "#   for row in csvreader:\n",
        "#     test_question_list.append(row[0])\n",
        "#     test_index_list.append(row[1])\n",
        "\n",
        "# test_question_list = test_question_list[1:201]\n",
        "# test_index_list = test_index_list[1:201]\n",
        "\n",
        "with open(\"/content/drive/MyDrive/Colab Notebooks/CSCI_544_DATA/Anushka.csv\", 'r') as file:\n",
        "  csvreader = csv.reader(file)\n",
        "  for row in csvreader:\n",
        "    test_question_list = []\n",
        "    test_index_list = []\n",
        "    test_question_list.append(row[1])\n",
        "    test_index_list.append(row[0])\n",
        "\n",
        "with open(\"/content/drive/MyDrive/Colab Notebooks/CSCI_544_DATA/Kai.csv\", 'r') as file:\n",
        "  csvreader = csv.reader(file)\n",
        "  for row in csvreader:\n",
        "    test_question_list.append(row[1])\n",
        "    test_index_list.append(row[0])\n",
        "\n",
        "with open(\"/content/drive/MyDrive/Colab Notebooks/CSCI_544_DATA/Joohan_revised.csv\", 'r') as file:\n",
        "  csvreader = csv.reader(file)\n",
        "  for row in csvreader:\n",
        "    test_question_list.append(row[1])\n",
        "    test_index_list.append(row[0])\n",
        "\n",
        "with open(\"/content/drive/MyDrive/Colab Notebooks/CSCI_544_DATA/Behzad_changed.csv\", 'r') as file:\n",
        "  csvreader = csv.reader(file)\n",
        "  for row in csvreader:\n",
        "    test_question_list.append(row[1])\n",
        "    test_index_list.append(row[0])\n",
        "\n",
        "\n",
        "test_question_list = test_question_list[:100]\n",
        "test_index_list = test_index_list[:100]"
      ],
      "metadata": {
        "id": "GZuvs-EnAOyf"
      },
      "execution_count": null,
      "outputs": []
    },
    {
      "cell_type": "code",
      "source": [
        "!pip install -U gensim\n",
        "!pip install fse"
      ],
      "metadata": {
        "colab": {
          "base_uri": "https://localhost:8080/"
        },
        "id": "MP2tnk2UAQnr",
        "outputId": "cff88800-30fd-46fe-c9ce-7225b5bb4466"
      },
      "execution_count": null,
      "outputs": [
        {
          "output_type": "stream",
          "name": "stdout",
          "text": [
            "Looking in indexes: https://pypi.org/simple, https://us-python.pkg.dev/colab-wheels/public/simple/\n",
            "Requirement already satisfied: gensim in /usr/local/lib/python3.7/dist-packages (3.6.0)\n",
            "Collecting gensim\n",
            "  Downloading gensim-4.2.0-cp37-cp37m-manylinux_2_12_x86_64.manylinux2010_x86_64.whl (24.1 MB)\n",
            "\u001b[K     |████████████████████████████████| 24.1 MB 1.9 MB/s \n",
            "\u001b[?25hRequirement already satisfied: scipy>=0.18.1 in /usr/local/lib/python3.7/dist-packages (from gensim) (1.7.3)\n",
            "Requirement already satisfied: numpy>=1.17.0 in /usr/local/lib/python3.7/dist-packages (from gensim) (1.21.6)\n",
            "Requirement already satisfied: smart-open>=1.8.1 in /usr/local/lib/python3.7/dist-packages (from gensim) (5.2.1)\n",
            "Installing collected packages: gensim\n",
            "  Attempting uninstall: gensim\n",
            "    Found existing installation: gensim 3.6.0\n",
            "    Uninstalling gensim-3.6.0:\n",
            "      Successfully uninstalled gensim-3.6.0\n",
            "Successfully installed gensim-4.2.0\n",
            "Looking in indexes: https://pypi.org/simple, https://us-python.pkg.dev/colab-wheels/public/simple/\n",
            "Collecting fse\n",
            "  Downloading fse-1.0.0.tar.gz (90 kB)\n",
            "\u001b[K     |████████████████████████████████| 90 kB 3.7 MB/s \n",
            "\u001b[?25hRequirement already satisfied: numpy>=1.11.3 in /usr/local/lib/python3.7/dist-packages (from fse) (1.21.6)\n",
            "Requirement already satisfied: scipy>=0.18.1 in /usr/local/lib/python3.7/dist-packages (from fse) (1.7.3)\n",
            "Requirement already satisfied: smart_open>=1.5.0 in /usr/local/lib/python3.7/dist-packages (from fse) (5.2.1)\n",
            "Requirement already satisfied: scikit-learn>=0.19.1 in /usr/local/lib/python3.7/dist-packages (from fse) (1.0.2)\n",
            "Requirement already satisfied: gensim>=4 in /usr/local/lib/python3.7/dist-packages (from fse) (4.2.0)\n",
            "Collecting wordfreq>=2.2.1\n",
            "  Downloading wordfreq-3.0.3-py3-none-any.whl (56.8 MB)\n",
            "\u001b[K     |████████████████████████████████| 56.8 MB 36 kB/s \n",
            "\u001b[?25hCollecting huggingface-hub\n",
            "  Downloading huggingface_hub-0.11.0-py3-none-any.whl (182 kB)\n",
            "\u001b[K     |████████████████████████████████| 182 kB 49.8 MB/s \n",
            "\u001b[?25hRequirement already satisfied: psutil in /usr/local/lib/python3.7/dist-packages (from fse) (5.4.8)\n",
            "Requirement already satisfied: joblib>=0.11 in /usr/local/lib/python3.7/dist-packages (from scikit-learn>=0.19.1->fse) (1.2.0)\n",
            "Requirement already satisfied: threadpoolctl>=2.0.0 in /usr/local/lib/python3.7/dist-packages (from scikit-learn>=0.19.1->fse) (3.1.0)\n",
            "Collecting ftfy>=6.1\n",
            "  Downloading ftfy-6.1.1-py3-none-any.whl (53 kB)\n",
            "\u001b[K     |████████████████████████████████| 53 kB 1.7 MB/s \n",
            "\u001b[?25hRequirement already satisfied: regex>=2021.7.6 in /usr/local/lib/python3.7/dist-packages (from wordfreq>=2.2.1->fse) (2022.6.2)\n",
            "Requirement already satisfied: msgpack>=1.0 in /usr/local/lib/python3.7/dist-packages (from wordfreq>=2.2.1->fse) (1.0.4)\n",
            "Requirement already satisfied: langcodes>=3.0 in /usr/local/lib/python3.7/dist-packages (from wordfreq>=2.2.1->fse) (3.3.0)\n",
            "Requirement already satisfied: wcwidth>=0.2.5 in /usr/local/lib/python3.7/dist-packages (from ftfy>=6.1->wordfreq>=2.2.1->fse) (0.2.5)\n",
            "Requirement already satisfied: pyyaml>=5.1 in /usr/local/lib/python3.7/dist-packages (from huggingface-hub->fse) (6.0)\n",
            "Requirement already satisfied: requests in /usr/local/lib/python3.7/dist-packages (from huggingface-hub->fse) (2.23.0)\n",
            "Requirement already satisfied: packaging>=20.9 in /usr/local/lib/python3.7/dist-packages (from huggingface-hub->fse) (21.3)\n",
            "Requirement already satisfied: importlib-metadata in /usr/local/lib/python3.7/dist-packages (from huggingface-hub->fse) (4.13.0)\n",
            "Requirement already satisfied: filelock in /usr/local/lib/python3.7/dist-packages (from huggingface-hub->fse) (3.8.0)\n",
            "Requirement already satisfied: tqdm in /usr/local/lib/python3.7/dist-packages (from huggingface-hub->fse) (4.64.1)\n",
            "Requirement already satisfied: typing-extensions>=3.7.4.3 in /usr/local/lib/python3.7/dist-packages (from huggingface-hub->fse) (4.1.1)\n",
            "Requirement already satisfied: pyparsing!=3.0.5,>=2.0.2 in /usr/local/lib/python3.7/dist-packages (from packaging>=20.9->huggingface-hub->fse) (3.0.9)\n",
            "Requirement already satisfied: zipp>=0.5 in /usr/local/lib/python3.7/dist-packages (from importlib-metadata->huggingface-hub->fse) (3.10.0)\n",
            "Requirement already satisfied: idna<3,>=2.5 in /usr/local/lib/python3.7/dist-packages (from requests->huggingface-hub->fse) (2.10)\n",
            "Requirement already satisfied: urllib3!=1.25.0,!=1.25.1,<1.26,>=1.21.1 in /usr/local/lib/python3.7/dist-packages (from requests->huggingface-hub->fse) (1.24.3)\n",
            "Requirement already satisfied: chardet<4,>=3.0.2 in /usr/local/lib/python3.7/dist-packages (from requests->huggingface-hub->fse) (3.0.4)\n",
            "Requirement already satisfied: certifi>=2017.4.17 in /usr/local/lib/python3.7/dist-packages (from requests->huggingface-hub->fse) (2022.9.24)\n",
            "Building wheels for collected packages: fse\n",
            "  Building wheel for fse (setup.py) ... \u001b[?25l\u001b[?25hdone\n",
            "  Created wheel for fse: filename=fse-1.0.0-cp37-cp37m-linux_x86_64.whl size=235682 sha256=e7f0968ef28ef878cf4f66e1b432b3fab8c0561302a7b89020acf1596c3a9a0f\n",
            "  Stored in directory: /root/.cache/pip/wheels/d5/65/7e/900c293350aa3b6bcaefcd66ec5757d43206b610a467093993\n",
            "Successfully built fse\n",
            "Installing collected packages: ftfy, wordfreq, huggingface-hub, fse\n",
            "Successfully installed fse-1.0.0 ftfy-6.1.1 huggingface-hub-0.11.0 wordfreq-3.0.3\n"
          ]
        }
      ]
    },
    {
      "cell_type": "code",
      "source": [
        "\n",
        "import gensim\n",
        "\n",
        "!pip3 install transformers\n",
        "!pip3 install torch\n",
        "\n",
        "import os\n",
        "import fse\n",
        "import pandas as pd\n",
        "import numpy as np\n",
        "import re\n",
        "import unicodedata\n",
        "from fse import SplitIndexedList\n",
        "import gensim.downloader as api\n",
        "from fse.models import uSIF\n",
        "from sklearn import metrics\n",
        "import nltk\n",
        "nltk.download('wordnet')\n",
        "nltk.download('stopwords')\n",
        "from nltk.corpus import stopwords\n",
        "from nltk.tokenize import word_tokenize  \n",
        "import logging\n",
        "# logging.basicConfig(format='%(asctime)s : %(threadName)s : %(levelname)s : %(message)s', level=logging.INFO)\n",
        "pd.set_option('display.max_colwidth', -1)"
      ],
      "metadata": {
        "colab": {
          "base_uri": "https://localhost:8080/"
        },
        "id": "WhhqYbQUATS5",
        "outputId": "8b93d380-6f65-4d1e-b461-dc69ba210db0"
      },
      "execution_count": null,
      "outputs": [
        {
          "output_type": "stream",
          "name": "stdout",
          "text": [
            "Looking in indexes: https://pypi.org/simple, https://us-python.pkg.dev/colab-wheels/public/simple/\n",
            "Collecting transformers\n",
            "  Downloading transformers-4.24.0-py3-none-any.whl (5.5 MB)\n",
            "\u001b[K     |████████████████████████████████| 5.5 MB 4.3 MB/s \n",
            "\u001b[?25hRequirement already satisfied: huggingface-hub<1.0,>=0.10.0 in /usr/local/lib/python3.7/dist-packages (from transformers) (0.11.0)\n",
            "Requirement already satisfied: packaging>=20.0 in /usr/local/lib/python3.7/dist-packages (from transformers) (21.3)\n",
            "Requirement already satisfied: importlib-metadata in /usr/local/lib/python3.7/dist-packages (from transformers) (4.13.0)\n",
            "Requirement already satisfied: numpy>=1.17 in /usr/local/lib/python3.7/dist-packages (from transformers) (1.21.6)\n",
            "Requirement already satisfied: regex!=2019.12.17 in /usr/local/lib/python3.7/dist-packages (from transformers) (2022.6.2)\n",
            "Requirement already satisfied: filelock in /usr/local/lib/python3.7/dist-packages (from transformers) (3.8.0)\n",
            "Requirement already satisfied: pyyaml>=5.1 in /usr/local/lib/python3.7/dist-packages (from transformers) (6.0)\n",
            "Requirement already satisfied: tqdm>=4.27 in /usr/local/lib/python3.7/dist-packages (from transformers) (4.64.1)\n",
            "Collecting tokenizers!=0.11.3,<0.14,>=0.11.1\n",
            "  Downloading tokenizers-0.13.2-cp37-cp37m-manylinux_2_17_x86_64.manylinux2014_x86_64.whl (7.6 MB)\n",
            "\u001b[K     |████████████████████████████████| 7.6 MB 29.2 MB/s \n",
            "\u001b[?25hRequirement already satisfied: requests in /usr/local/lib/python3.7/dist-packages (from transformers) (2.23.0)\n",
            "Requirement already satisfied: typing-extensions>=3.7.4.3 in /usr/local/lib/python3.7/dist-packages (from huggingface-hub<1.0,>=0.10.0->transformers) (4.1.1)\n",
            "Requirement already satisfied: pyparsing!=3.0.5,>=2.0.2 in /usr/local/lib/python3.7/dist-packages (from packaging>=20.0->transformers) (3.0.9)\n",
            "Requirement already satisfied: zipp>=0.5 in /usr/local/lib/python3.7/dist-packages (from importlib-metadata->transformers) (3.10.0)\n",
            "Requirement already satisfied: urllib3!=1.25.0,!=1.25.1,<1.26,>=1.21.1 in /usr/local/lib/python3.7/dist-packages (from requests->transformers) (1.24.3)\n",
            "Requirement already satisfied: certifi>=2017.4.17 in /usr/local/lib/python3.7/dist-packages (from requests->transformers) (2022.9.24)\n",
            "Requirement already satisfied: chardet<4,>=3.0.2 in /usr/local/lib/python3.7/dist-packages (from requests->transformers) (3.0.4)\n",
            "Requirement already satisfied: idna<3,>=2.5 in /usr/local/lib/python3.7/dist-packages (from requests->transformers) (2.10)\n",
            "Installing collected packages: tokenizers, transformers\n",
            "Successfully installed tokenizers-0.13.2 transformers-4.24.0\n",
            "Looking in indexes: https://pypi.org/simple, https://us-python.pkg.dev/colab-wheels/public/simple/\n",
            "Requirement already satisfied: torch in /usr/local/lib/python3.7/dist-packages (1.12.1+cu113)\n",
            "Requirement already satisfied: typing-extensions in /usr/local/lib/python3.7/dist-packages (from torch) (4.1.1)\n"
          ]
        },
        {
          "output_type": "stream",
          "name": "stderr",
          "text": [
            "[nltk_data] Downloading package wordnet to /root/nltk_data...\n",
            "[nltk_data] Downloading package stopwords to /root/nltk_data...\n",
            "[nltk_data]   Unzipping corpora/stopwords.zip.\n",
            "/usr/local/lib/python3.7/dist-packages/ipykernel_launcher.py:23: FutureWarning: Passing a negative integer is deprecated in version 1.0 and will not be supported in future version. Instead, use None to not limit the column width.\n"
          ]
        }
      ]
    },
    {
      "cell_type": "code",
      "source": [
        "df=pd.read_csv(\"/content/drive/MyDrive/Colab Notebooks/CSCI_544_DATA/all.csv\",names=[\"Questions\",\"Answers\"])\n",
        "\n",
        "# stop_words = set(stopwords.words('english'))\n",
        "def cleanQuestion(text):\n",
        "  text = str(text)\n",
        "  # wnl = nltk.stem.WordNetLemmatizer()\n",
        "  text = text.lower()\n",
        "  words = re.sub(r'[^\\w\\s]', '', text).split()\n",
        "  # words = [word for word in words if not word in stop_words]\n",
        "  return \" \".join([word for word in words])\n",
        "\n",
        "def cleanAnswer(text):\n",
        "  text = str(text)\n",
        "  # wnl = nltk.stem.WordNetLemmatizer()\n",
        "  text = text.lower()\n",
        "  words = re.sub(r'[^\\w\\s]', '', text).split()\n",
        "  # words = [word for word in words if not word in stop_words]\n",
        "  return \" \".join([word for word in words])\n",
        "\n",
        "df['Questions'] = df['Questions'].apply(lambda x: cleanQuestion(x))\n",
        "df['Answers'] = df['Answers'].apply(lambda x: cleanAnswer(x))\n",
        "allQuestion = '. '.join(list(df['Questions']))\n",
        "# text = allQuestion\n",
        "s = SplitIndexedList(allQuestion.split('.'))\n",
        "glove = api.load(\"glove-wiki-gigaword-100\")"
      ],
      "metadata": {
        "colab": {
          "base_uri": "https://localhost:8080/"
        },
        "id": "Mvh8KEL5AbUu",
        "outputId": "dddfd4af-22b5-424e-b507-f63be0aa2f0f"
      },
      "execution_count": null,
      "outputs": [
        {
          "output_type": "stream",
          "name": "stdout",
          "text": [
            "[==================================================] 100.0% 128.1/128.1MB downloaded\n"
          ]
        }
      ]
    },
    {
      "cell_type": "code",
      "source": [
        "from fse.models import uSIF\n",
        "model_sif = uSIF(glove, workers=2, lang_freq=\"en\")\n",
        "model_sif.train(s)"
      ],
      "metadata": {
        "colab": {
          "base_uri": "https://localhost:8080/"
        },
        "id": "_a7YftfZAc8q",
        "outputId": "14bace10-746a-4348-c8f9-3ef1a5a9ad04"
      },
      "execution_count": null,
      "outputs": [
        {
          "output_type": "execute_result",
          "data": {
            "text/plain": [
              "(16836, 184626)"
            ]
          },
          "metadata": {},
          "execution_count": 6
        }
      ]
    },
    {
      "cell_type": "code",
      "source": [
        "q = 'how do i create an account on binance'\n",
        "testq = 'how to create account in binance'\n",
        "tmpq = (q.split(), 0)\n",
        "tmp_testq = (testq.split(), 0)\n",
        "print(metrics.pairwise.cosine_similarity(model_sif.infer([tmpq]), model_sif.infer([tmp_testq]))[0][0])"
      ],
      "metadata": {
        "colab": {
          "base_uri": "https://localhost:8080/"
        },
        "id": "Y6r3w4A6AetT",
        "outputId": "d3698837-4d7f-46c9-a022-0d2ddc33d835"
      },
      "execution_count": null,
      "outputs": [
        {
          "output_type": "stream",
          "name": "stdout",
          "text": [
            "0.98660386\n"
          ]
        }
      ]
    },
    {
      "cell_type": "code",
      "source": [
        "def getSim(q, x):\n",
        "  # x = (str(x).split(), 0)\n",
        "  sim = metrics.pairwise.cosine_similarity(model_sif.infer([q]), model_sif.infer([x]))\n",
        "  return sim\n",
        "\n",
        "def getAnswer(inputq):\n",
        "  tempinputq = (inputq.split(), 0)\n",
        "  max_sim = 0.85\n",
        "  max_index = -1\n",
        "  for i in range(0,df['Questions'].size):\n",
        "    q = df['Questions'].iloc[i]\n",
        "    tempq = (q.split(), 0)\n",
        "    temp_sim = getSim(tempq, tempinputq)[0][0] \n",
        "    # print(i)\n",
        "    # print(temp_sim)\n",
        "    if(max_sim < temp_sim):\n",
        "        max_sim = temp_sim\n",
        "        max_index = i\n",
        "\n",
        "  if(max_index == -1):\n",
        "    return 'Sorry, I do not understand the question'\n",
        "  else:\n",
        "    return max_index"
      ],
      "metadata": {
        "id": "jlHQ8d77Af8g"
      },
      "execution_count": null,
      "outputs": []
    },
    {
      "cell_type": "code",
      "source": [
        "count = 0\n",
        "low_sim = 0\n",
        "for i in range(len(test_question_list)):\n",
        "  q = test_question_list[i]\n",
        "  index = str(getAnswer(q))\n",
        "  if index == str(test_index_list[i]):\n",
        "    count += 1\n",
        "\n",
        "print(count)\n",
        "accuracy = count/len(test_question_list)\n",
        "accuracy"
      ],
      "metadata": {
        "colab": {
          "base_uri": "https://localhost:8080/"
        },
        "id": "1m_BBWa7AjC9",
        "outputId": "9ca4bb61-cdc6-425b-dc2f-e18087117d33"
      },
      "execution_count": null,
      "outputs": [
        {
          "output_type": "stream",
          "name": "stdout",
          "text": [
            "79\n"
          ]
        },
        {
          "output_type": "execute_result",
          "data": {
            "text/plain": [
              "0.79"
            ]
          },
          "metadata": {},
          "execution_count": 11
        }
      ]
    },
    {
      "cell_type": "code",
      "source": [],
      "metadata": {
        "id": "FBvY748_Akjy"
      },
      "execution_count": null,
      "outputs": []
    }
  ]
}